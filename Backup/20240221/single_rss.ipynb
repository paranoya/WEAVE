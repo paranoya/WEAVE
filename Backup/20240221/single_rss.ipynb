{
 "cells": [
  {
   "cell_type": "markdown",
   "id": "e6589599",
   "metadata": {},
   "source": [
    "# Quality control of WEAVE RSS files\n",
    "\n",
    "Wavelength calibration test\n",
    "\n",
    "Based on sky emission lines identified in Row-stacked spectra (RSS)\n",
    "\n",
    "# 0. Initialisation"
   ]
  },
  {
   "cell_type": "markdown",
   "id": "64b59e2e-ea23-4687-bca8-0be5c0ead95c",
   "metadata": {
    "tags": []
   },
   "source": [
    "## Imports"
   ]
  },
  {
   "cell_type": "code",
   "execution_count": null,
   "id": "5629f632",
   "metadata": {},
   "outputs": [],
   "source": [
    "%matplotlib ipympl\n",
    "from matplotlib import pyplot as plt\n",
    "from matplotlib import colors\n",
    "from matplotlib.ticker import AutoMinorLocator\n",
    "\n",
    "import numpy as np\n",
    "import os\n",
    "import glob\n",
    "from time import time\n",
    "from scipy import ndimage\n",
    "\n",
    "from astropy.io import fits\n",
    "from astropy.wcs import WCS\n",
    "from astropy.coordinates import SkyCoord\n",
    "from astropy import units as u\n",
    "from astropy import constants as c\n",
    "from astropy.table import Table\n"
   ]
  },
  {
   "cell_type": "markdown",
   "id": "451c1859-6722-423c-b4fa-82c06f057f98",
   "metadata": {},
   "source": [
    "Plotting functions:"
   ]
  },
  {
   "cell_type": "code",
   "execution_count": null,
   "id": "317e8dac-7df3-47cf-ba2f-3b41dbd9dae2",
   "metadata": {},
   "outputs": [],
   "source": [
    "def new_figure(fig_name, figsize=(10, 5), nrows=1, ncols=1, sharex='col', sharey='row', gridspec_kw={'hspace': 0, 'wspace': 0}):\n",
    "    plt.close(fig_name)\n",
    "    fig = plt.figure(fig_name, figsize=figsize)\n",
    "    axes = fig.subplots(nrows=nrows, ncols=ncols, squeeze=False,\n",
    "                        sharex=sharex, sharey=sharey,\n",
    "                        gridspec_kw=gridspec_kw\n",
    "                       )\n",
    "    fig.set_tight_layout(True)\n",
    "    for ax in axes.flat:\n",
    "        ax.xaxis.set_minor_locator(AutoMinorLocator())\n",
    "        ax.yaxis.set_minor_locator(AutoMinorLocator())\n",
    "        ax.tick_params(which='both', bottom=True, top=True, left=True, right=True)\n",
    "        ax.tick_params(which='major', direction='inout', length=8, grid_alpha=.3)\n",
    "        ax.tick_params(which='minor', direction='in', length=2, grid_alpha=.1)\n",
    "        ax.grid(True, which='both')\n",
    "\n",
    "    fig.suptitle(f'{rss.filename} {fig_name}')\n",
    "    \n",
    "    return fig, axes\n"
   ]
  },
  {
   "cell_type": "code",
   "execution_count": null,
   "id": "69ba4437-730a-41c6-866b-bdae5a708b36",
   "metadata": {},
   "outputs": [],
   "source": [
    "default_cmap = plt.get_cmap(\"gist_earth\").copy()\n",
    "default_cmap.set_bad('gray')\n",
    "\n",
    "\n",
    "def colour_map(ax, cblabel, data, cmap=default_cmap, norm=None, xlabel=None, x=None, ylabel=None, y=None):\n",
    "    \n",
    "    if norm is None:\n",
    "        percentiles = np.array([1, 16, 50, 84, 99])\n",
    "        ticks = np.nanpercentile(data, percentiles)\n",
    "        linthresh = np.median(data[data > 0])\n",
    "        norm = colors.SymLogNorm(vmin=ticks[0], vmax=ticks[-1], linthresh=linthresh)\n",
    "    else:\n",
    "        ticks = None\n",
    "    if y is None:\n",
    "        y = np.arange(data.shape[0])\n",
    "    if x is None:\n",
    "        x = np.arange(data.shape[1])\n",
    "\n",
    "    im = ax.imshow(data,\n",
    "                   extent=(x[0]-(x[1]-x[0])/2, x[-1]+(x[-1]-x[-2])/2, y[0]-(y[1]-y[0])/2, y[-1]+(y[-1]-y[-2])/2),\n",
    "                   interpolation='nearest', origin='lower',\n",
    "                   cmap=cmap,\n",
    "                   norm=norm,\n",
    "                  )\n",
    "    ax.set_aspect('auto')\n",
    "    if xlabel is not None:\n",
    "        ax.set_xlabel(xlabel)\n",
    "    if ylabel is not None:\n",
    "        ax.set_ylabel(ylabel)\n",
    "\n",
    "    cb = fig.colorbar(im, ax=ax, orientation='vertical', shrink=.9)\n",
    "    cb.ax.set_ylabel(cblabel)\n",
    "    if ticks is not None:\n",
    "        cb.ax.set_yticks(ticks=ticks, labels=[f'{value:.3g} ({percent}%)' for value, percent in zip(ticks, percentiles)])\n",
    "    cb.ax.tick_params(labelsize='small')\n",
    "    \n",
    "    return im, cb\n"
   ]
  },
  {
   "cell_type": "markdown",
   "id": "0ba31853-36ba-4e15-90ac-1dd7a812d086",
   "metadata": {
    "tags": []
   },
   "source": [
    "## Ancillary data"
   ]
  },
  {
   "cell_type": "markdown",
   "id": "1d21d052-4a64-4bfa-a0dc-adbd8418ea1e",
   "metadata": {},
   "source": [
    "UVES sky emission atlas: <https://www.eso.org/observing/dfo/quality/UVES/pipeline/sky_spectrum.html>"
   ]
  },
  {
   "cell_type": "code",
   "execution_count": null,
   "id": "969b85c4-d75e-4824-8a98-0fad62e52ddb",
   "metadata": {},
   "outputs": [],
   "source": [
    "wave_flux = np.empty((0, 2))\n",
    "filenames = glob.glob('sky/UVES_sky_emission_atlas/gident_*.dat')\n",
    "filenames.sort()\n",
    "for filename in filenames:\n",
    "    print(filename)\n",
    "    wave_flux = np.concatenate((wave_flux, np.loadtxt(filename, usecols=(1, 4), skiprows=3, comments=['#', '--------'])), axis=0)\n",
    "UVES_atlas = Table(wave_flux, names=('wavelength', 'flux'))"
   ]
  },
  {
   "cell_type": "markdown",
   "id": "6daf8566-4ef0-49f1-8bb8-45355e2a335e",
   "metadata": {},
   "source": [
    "## RSS files"
   ]
  },
  {
   "cell_type": "code",
   "execution_count": null,
   "id": "adf756b5-5f45-4d30-abe1-e870dfecb6dd",
   "metadata": {},
   "outputs": [],
   "source": [
    "class WEAVE_RSS(object):\n",
    "    \n",
    "    def __init__(self, filename):\n",
    "        '''Read a WEAVE \"single exposure\" file (i.e. row-stacked spectra for just one arm)'''\n",
    "        self.filename = filename\n",
    "        self.hdu = fits.open(filename)\n",
    "        self.wcs = WCS(self.hdu[1].header)\n",
    "        pixels = np.arange(self.hdu[1].data.shape[1])\n",
    "        self.wavelength = self.wcs.spectral.array_index_to_world(pixels).to_value(u.Angstrom)\n",
    "        self.counts = self.hdu[3].data\n",
    "        self.counts_error = np.where(self.hdu[4].data > 0, 1/np.sqrt(self.hdu[4].data), np.nan)\n",
    "        self.sky_counts = self.hdu[3].data - self.hdu[1].data\n",
    "        self.sensitivity_function = self.hdu[5].data\n",
    "        self.flux = self.hdu[1].data*self.sensitivity_function\n",
    "        self.sky_sub_ivar = self.hdu[2].data\n",
    "        \n",
    "        bad = np.isnan(self.counts_error).nonzero()\n",
    "        self.counts[bad] = np.nan\n",
    "        self.sky_counts[bad] = np.nan\n",
    "        self.sensitivity_function[bad] = np.nan\n",
    "        self.flux[bad] = np.nan\n",
    "        self.sky_sub_ivar[bad] = np.nan\n",
    "        \n",
    "        self.fibtable = self.hdu[6].data\n",
    "        #self.sky_fibres = np.where(self.fibtable['TARGUSE'] != 'Patata')\n",
    "        self.sky_fibres = np.where(self.fibtable['TARGUSE'] == 'S')\n",
    "        self.target_fibres = np.where(self.fibtable['TARGUSE'] == 'T')\n",
    "        self.n_sky_fibres = self.sky_fibres[0].size\n",
    "        self.n_fibres = self.counts.shape[0]\n",
    "\n",
    "        heliocentric_correction = (1 + np.nanmean(self.fibtable['Helio_cor'])/3e5)\n",
    "        wave = UVES_atlas['wavelength'] * heliocentric_correction\n",
    "        inside = np.where((wave > self.wavelength[0]) & (wave < self.wavelength[-1]))\n",
    "        self.sky_lines = UVES_atlas[inside].copy()\n",
    "        self.sky_lines['wavelength'] *= heliocentric_correction\n"
   ]
  },
  {
   "cell_type": "code",
   "execution_count": null,
   "id": "bf1b2073-a44e-40d6-8f7b-c417540e700e",
   "metadata": {},
   "outputs": [],
   "source": [
    "#red_arm = WEAVE_RSS('SV/20230512_13/single_3005695.fit')\n",
    "#blue_arm = WEAVE_RSS('SV/20230512_13/single_3005696.fit')\n",
    "#rss_list = [blue_arm, red_arm]\n",
    "#rss = red_arm\n",
    "rss = WEAVE_RSS('data/v3/casu.ast.cam.ac.uk/weavedata/1500016316/L1/single_3039342.fit')"
   ]
  },
  {
   "cell_type": "code",
   "execution_count": null,
   "id": "4ba7f743-e5b1-4891-8ecf-9a15cc0923d4",
   "metadata": {},
   "outputs": [],
   "source": [
    "rss.hdu.info()"
   ]
  },
  {
   "cell_type": "code",
   "execution_count": null,
   "id": "713d354a-5a7b-44e2-ab27-cc01f73e7b63",
   "metadata": {},
   "outputs": [],
   "source": [
    "#rss.hdu[0].header\n",
    "#rss.sky_lines"
   ]
  },
  {
   "cell_type": "code",
   "execution_count": null,
   "id": "f31c2a2f-db28-4017-9be0-37cd52170e9e",
   "metadata": {},
   "outputs": [],
   "source": [
    "#rss.fibtable.columns"
   ]
  },
  {
   "cell_type": "markdown",
   "id": "d2f573f8-1d3d-445b-9656-7222f01fd262",
   "metadata": {},
   "source": [
    "# 1. Sky spectrum"
   ]
  },
  {
   "cell_type": "markdown",
   "id": "cffaaf52-33d8-48b3-a85a-572a074cb527",
   "metadata": {},
   "source": [
    "## First guess: mode and median"
   ]
  },
  {
   "cell_type": "markdown",
   "id": "9392dae1-6cf6-44fb-8256-d6dd956ff5a4",
   "metadata": {},
   "source": [
    "Mode as a function of wavelength:"
   ]
  },
  {
   "cell_type": "code",
   "execution_count": null,
   "id": "28f1a100-4d11-4894-b303-d2e84fa696f6",
   "metadata": {},
   "outputs": [],
   "source": [
    "t0 = time()\n",
    "n_bins = max(int(np.sqrt(rss.counts.size/rss.wavelength.size)), 101)\n",
    "percentiles_per_wl = np.linspace(0, 100, n_bins)\n",
    "percentile_values_per_wl = np.nanpercentile(rss.counts, percentiles_per_wl, axis=0)\n",
    "\n",
    "print(f\"{n_bins} percentiles ({time()-t0:.3g} s)\")"
   ]
  },
  {
   "cell_type": "code",
   "execution_count": null,
   "id": "9d5c1950-5dbe-41a4-93c8-08770f9c396c",
   "metadata": {},
   "outputs": [],
   "source": [
    "rho_per_wl_x = (percentile_values_per_wl[1:] + percentile_values_per_wl[:-1]) / 2\n",
    "rho_per_wl = 1 / (percentile_values_per_wl[1:] - percentile_values_per_wl[:-1])\n",
    "bad = np.where(np.count_nonzero(np.isfinite(rho_per_wl), axis=0) == 0)\n",
    "rho_per_wl[:, bad] = 0\n",
    "i_mode = np.nanargmax(rho_per_wl, axis=0)\n",
    "mode_sky = percentile_values_per_wl[i_mode, np.arange(rss.wavelength.size)]\n",
    "mode_sky[bad] = np.nan\n"
   ]
  },
  {
   "cell_type": "code",
   "execution_count": null,
   "id": "3729ab17-8bc0-4009-8d25-f770bf986986",
   "metadata": {},
   "outputs": [],
   "source": [
    "n_wavelengths = percentile_values_per_wl.shape[1]\n",
    "mode_sky = np.empty(n_wavelengths) * np.nan\n",
    "delta_mode_sky = np.empty(n_wavelengths) * np.nan\n",
    "for i in range(n_wavelengths):\n",
    "    rho_x = (percentile_values_per_wl[1:, i] + percentile_values_per_wl[:-1, i]) / 2\n",
    "    rho = 1 / (percentile_values_per_wl[1:, i] - percentile_values_per_wl[:-1, i])\n",
    "    if np.count_nonzero(np.isfinite(rho)) > 0:\n",
    "        peaks = np.where((rho[1:-1] > rho[:-2]) & (rho[1:-1] > rho[2:]))\n",
    "        valleys = np.where((rho[1:-1] < rho[:-2]) & (rho[1:-1] < rho[2:]))\n",
    "        max_valley = np.nanmax(rho[1:-1][valleys])\n",
    "        mode_left, mode_right = np.take(rho_x[rho > max_valley], [1, -1])\n",
    "        mode_sky[i] = (mode_left + mode_right) / 2\n",
    "        delta_mode_sky[i] = (mode_right - mode_left) / 2\n"
   ]
  },
  {
   "cell_type": "markdown",
   "id": "d3ecf861-c59d-44ca-82ed-e312279a7bcd",
   "metadata": {},
   "source": [
    "Median (just for comparison), over the \"sky fibres\" and the whole dataset"
   ]
  },
  {
   "cell_type": "code",
   "execution_count": null,
   "id": "ce8e0c7a-9d4d-4850-b6b3-db0e01f63646",
   "metadata": {},
   "outputs": [],
   "source": [
    "median_sky_fibres = np.nanmedian(rss.sky_counts[rss.sky_fibres], axis=0)"
   ]
  },
  {
   "cell_type": "code",
   "execution_count": null,
   "id": "f78914c8-84cd-49d8-8423-745035846412",
   "metadata": {},
   "outputs": [],
   "source": [
    "i_median = np.argmin(np.abs(percentiles_per_wl-50))\n",
    "median_sky_all = percentile_values_per_wl[i_median]"
   ]
  },
  {
   "cell_type": "markdown",
   "id": "0deff731-0410-4d0b-932d-6516f2039371",
   "metadata": {},
   "source": [
    "Plots:"
   ]
  },
  {
   "cell_type": "code",
   "execution_count": null,
   "id": "77cebd88-447d-47a3-9dc0-167a840c1a87",
   "metadata": {},
   "outputs": [],
   "source": [
    "fig, axes = new_figure('mode_and_median', nrows=2)\n",
    "\n",
    "ax = axes[0, 0]\n",
    "ax.set_ylabel('counts')\n",
    "ax.set_yscale('log')\n",
    "\n",
    "ax.plot(rss.wavelength, mode_sky, 'k-', alpha=1, label='mode over all fibres')\n",
    "ax.fill_between(rss.wavelength, mode_sky-delta_mode_sky, mode_sky+delta_mode_sky, color='k', alpha=.1)\n",
    "ax.plot(rss.wavelength, median_sky_all, 'r-', alpha=.5, label='median over all fibres')\n",
    "ax.plot(rss.wavelength, median_sky_fibres, 'b-', alpha=.5, label='median over sky fibres')\n",
    "ax.legend()\n",
    "\n",
    "ax = axes[1, 0]\n",
    "ax.set_ylabel('sky fibre throughput')\n",
    "ax.set_yscale('log')\n",
    "ax.plot(rss.wavelength, median_sky_fibres/mode_sky, 'b-', label='median over sky / mode over all')\n",
    "ax.axhline(np.nanmedian(median_sky_fibres/mode_sky), c='k', ls=':')\n",
    "ax.legend()\n",
    "\n",
    "plt.show()"
   ]
  },
  {
   "cell_type": "code",
   "execution_count": null,
   "id": "a0c9b5b1-3806-4330-b8fb-d3fd388c2c50",
   "metadata": {},
   "outputs": [],
   "source": [
    "#np.savetxt('sky_spectrum.txt', np.array([rss.wavelength, mode_sky]).T, fmt='%.1f', header='wavelength, sky_spectrum')"
   ]
  },
  {
   "cell_type": "markdown",
   "id": "9f4546da-bc85-4632-9695-a034ec97a8a8",
   "metadata": {},
   "source": [
    "## Line Spread Function (LSF)"
   ]
  },
  {
   "cell_type": "markdown",
   "id": "4616a1d7-3104-4d00-986c-1683ee187344",
   "metadata": {},
   "source": [
    "Parameters:"
   ]
  },
  {
   "cell_type": "code",
   "execution_count": null,
   "id": "01e601b8-5ed3-4f1f-b3da-e69750d365fc",
   "metadata": {},
   "outputs": [],
   "source": [
    "LSF_requested_resolution = 0.01  # Angstrom\n",
    "LSF_wavelength_range = 20  # Angstrom\n",
    "LSF_dlambda = np.arange(-LSF_wavelength_range, LSF_wavelength_range+.5*LSF_requested_resolution, LSF_requested_resolution)"
   ]
  },
  {
   "cell_type": "markdown",
   "id": "5eb8b037-a7ee-45c5-8b56-2dde9730f929",
   "metadata": {},
   "source": [
    "Function definitions:"
   ]
  },
  {
   "cell_type": "code",
   "execution_count": null,
   "id": "2e3b6f51-4e2f-4b24-8dd0-0d2fee9af5d0",
   "metadata": {},
   "outputs": [],
   "source": [
    "def normalise(x):\n",
    "    x -= np.median(x)\n",
    "    norm = x[x.size//2]\n",
    "    if norm > 0:\n",
    "        x /= norm\n",
    "    else:\n",
    "        x *= np.nan\n",
    "    return x\n",
    "\n",
    "\n",
    "def find_LSF(delta_l, spectrum):\n",
    "    median_skyline = np.zeros((rss.sky_lines['wavelength'].size, delta_l.size))\n",
    "    for i, line in enumerate(rss.sky_lines['wavelength']):\n",
    "        sed = np.interp(line+delta_l, rss.wavelength, spectrum)\n",
    "        sed = normalise(sed)\n",
    "        median_skyline[i] = sed\n",
    "    return normalise(np.nanmedian(median_skyline, axis=0))\n",
    "\n",
    "\n",
    "def find_FWHM(delta_l, profile):\n",
    "    threshold = np.max(profile)/2\n",
    "    left = np.max(delta_l[(delta_l < 0) & (profile < threshold)])\n",
    "    right = np.min(delta_l[(delta_l > 0) & (profile < threshold)])\n",
    "    return right-left\n"
   ]
  },
  {
   "cell_type": "code",
   "execution_count": null,
   "id": "f2c5a7e2-3bec-4d0c-be42-b32677241c77",
   "metadata": {},
   "outputs": [],
   "source": [
    "def gaussian_profile(x, mu=0, sigma=1, norm=True):\n",
    "    g = np.exp(-.5 * ((x-mu) / sigma)**2)\n",
    "    if norm:\n",
    "        g /= np.sqrt(2*np.pi) * sigma\n",
    "    return  g\n",
    "\n",
    "\n",
    "def refine_Gaussian(x, I, mu0, sigma0):\n",
    "\n",
    "    good = np.where(np.isfinite(I))\n",
    "    weight = np.exp(-.5 * ((x[good]-mu0) / sigma0)**2) * (I[good] - np.min(I[good]))\n",
    "    total_weight = np.sum(weight)\n",
    "\n",
    "    ivar0 = 1 / sigma0**2\n",
    "    mu = np.sum(weight * x[good]) / total_weight\n",
    "    ivar = total_weight / np.sum(weight * (x[good] - mu)**2)\n",
    "\n",
    "    ivar1 = ivar - ivar0\n",
    "    mu1 = (mu*ivar - mu0*ivar0) / ivar1\n",
    "    return mu1, 1/np.sqrt(ivar1)\n",
    "\n",
    "\n",
    "def fit_Gaussian(x, I, mu0=None, sigma0=None):\n",
    "\n",
    "    if mu0 is None:\n",
    "        mu0 = np.nanmean(x)\n",
    "    if sigma0 is None:\n",
    "        sigma0 = np.nanstd(x)\n",
    "    \n",
    "    delta2 = np.inf\n",
    "    while delta2 > LSF_requested_resolution**2:\n",
    "        mu1, sigma1 = refine_Gaussian(x, I, mu0, sigma0)\n",
    "        delta2 = (mu1 - mu0)**2 + (sigma1 - sigma0)**2\n",
    "        mu0 = mu1\n",
    "        sigma0 = sigma1\n",
    "        #print(mu0, sigma0)\n",
    "    \n",
    "    return mu0, sigma0"
   ]
  },
  {
   "cell_type": "markdown",
   "id": "d5a03ff6-9929-4142-bfde-9b621816a505",
   "metadata": {},
   "source": [
    "FWHM of mode-based sky:"
   ]
  },
  {
   "cell_type": "code",
   "execution_count": null,
   "id": "55057686-31b1-4733-b998-9ae96b62181d",
   "metadata": {},
   "outputs": [],
   "source": [
    "mode_sky_LSF = find_LSF(LSF_dlambda, mode_sky)\n",
    "mode_sky_FWHM = find_FWHM(LSF_dlambda, mode_sky_LSF)\n",
    "#LSF_sigma = mode_sky_FWHM / np.sqrt(8*np.log(2))\n",
    "\n",
    "LSF_mu, LSF_sigma = fit_Gaussian(LSF_dlambda, mode_sky_LSF, 0, mode_sky_FWHM / np.sqrt(8*np.log(2)))\n",
    "\n",
    "print(f'FWHM of mode-based sky = {mode_sky_FWHM:.3f} (sigma = {mode_sky_FWHM / np.sqrt(8*np.log(2)):.3f}) Angstrom')\n",
    "print(f'Moments (mu, sigma) = ({LSF_mu:.3f}, {LSF_sigma:.3f}) Angstrom')"
   ]
  },
  {
   "cell_type": "code",
   "execution_count": null,
   "id": "cf083024-8f61-4276-b14c-1afc94186aaa",
   "metadata": {},
   "outputs": [],
   "source": [
    "fig, axes = new_figure('sky_LSF')\n",
    "\n",
    "    \n",
    "ax = axes[0, 0]\n",
    "ax.set_ylabel(r'Median Line Spread Function (LSF)')\n",
    "#ax.set_yscale('log')\n",
    "#ax.set_ylim(5e-4, 2)\n",
    "\n",
    "\n",
    "#ax.plot(LSF_dlambda, np.nancumsum(mode_sky_LSF), 'k--', alpha=.5)\n",
    "#ax.plot(LSF_dlambda, np.nancumsum(mode_sky_LSF*LSF_dlambda)*np.nancumsum(mode_sky_LSF), 'b-', alpha=.5)\n",
    "ax.plot(LSF_dlambda, mode_sky_LSF, 'k-', alpha=1, label=f'FWHM = {mode_sky_FWHM:.3f} (sigma = {mode_sky_FWHM / np.sqrt(8*np.log(2)):.3f}) $\\\\AA$ ')\n",
    "ax.plot(LSF_dlambda, gaussian_profile(LSF_dlambda, LSF_mu, LSF_sigma, False), 'k--', alpha=1, label=f'Gaussian ($\\\\mu, \\\\sigma$) = ({LSF_mu:.3f}, {LSF_sigma:.3f}) $\\\\AA$ ')\n",
    "ax.axvline(LSF_mu, c='k', ls=':')\n",
    "ax.legend()\n",
    "\n",
    "ax = axes[-1, 0]\n",
    "ax.set_xlabel(r'$(\\lambda - \\lambda_0)$ [$\\AA$]')"
   ]
  },
  {
   "cell_type": "code",
   "execution_count": null,
   "id": "4fba0d53-3a78-40b7-ab01-97142d9b90aa",
   "metadata": {},
   "outputs": [],
   "source": [
    "rss.sky_lines"
   ]
  },
  {
   "cell_type": "markdown",
   "id": "65dfeb3d-0dee-4fbb-a3a6-f5c5c934fec7",
   "metadata": {},
   "source": [
    "# 3. Individual fibres"
   ]
  },
  {
   "cell_type": "markdown",
   "id": "170a0d22-b98d-4f9b-a67e-d35b162147f7",
   "metadata": {},
   "source": [
    "## Line-continuum separation"
   ]
  },
  {
   "cell_type": "markdown",
   "id": "ed5428e7-c363-4b65-abcf-989ba9062825",
   "metadata": {},
   "source": [
    "Parameters:"
   ]
  },
  {
   "cell_type": "code",
   "execution_count": null,
   "id": "bb52faa7-4158-43af-ae29-9a17e8f3ec88",
   "metadata": {},
   "outputs": [],
   "source": [
    "continuum_peak_separation = 2  # in units of the LSF FWHM"
   ]
  },
  {
   "cell_type": "markdown",
   "id": "efa3f9ab-0044-4abf-94b9-2099d4462c52",
   "metadata": {},
   "source": [
    "Function definitions:"
   ]
  },
  {
   "cell_type": "code",
   "execution_count": null,
   "id": "6bc93404-4ec5-456e-8ef0-6e7fc19fc893",
   "metadata": {},
   "outputs": [],
   "source": [
    "'''\n",
    "def find_peaks(x, y, min_separation):\n",
    "    peaks = []\n",
    "    y[np.isnan(y)] = -np.inf\n",
    "    for i in range(min_separation, y.size-min_separation-1):\n",
    "        if np.argmax(y[i-min_separation:i+min_separation+1]) == min_separation:\n",
    "            valleys.append(i)\n",
    "    y[~np.isfinite(y)] = np.nan\n",
    "    return peaks\n",
    "'''\n",
    "\n",
    "def find_continuum(x, y, min_separation):\n",
    "    valleys = []\n",
    "    y[np.isnan(y)] = np.inf\n",
    "    for i in range(min_separation, y.size-min_separation-1):\n",
    "        if np.argmin(y[i-min_separation:i+min_separation+1]) == min_separation:\n",
    "            valleys.append(i)\n",
    "    y[~np.isfinite(y)] = np.nan\n",
    "    return np.fmin(y, np.interp(x, x[valleys], y[valleys]))\n"
   ]
  },
  {
   "cell_type": "markdown",
   "id": "49346ac2-f737-4dc1-8693-a32e58b64684",
   "metadata": {},
   "source": [
    "Find continuum for all fibres:"
   ]
  },
  {
   "cell_type": "code",
   "execution_count": null,
   "id": "a76f1abd-1b66-4ef2-8717-c829bc6af4d0",
   "metadata": {},
   "outputs": [],
   "source": [
    "t0 = time()\n",
    "spectral_resolution = (rss.wavelength[-1] - rss.wavelength[0]) / rss.wavelength.size\n",
    "continuum = np.empty_like(rss.counts)\n",
    "for i, spectrum in enumerate(rss.counts):\n",
    "    continuum[i] = find_continuum(rss.wavelength, spectrum, int(continuum_peak_separation*mode_sky_FWHM/spectral_resolution))\n",
    "print(f\"{rss.n_fibres} fibres ({time()-t0:.3g} s)\")"
   ]
  },
  {
   "cell_type": "markdown",
   "id": "40754cb6-09f9-4985-bddc-231870736606",
   "metadata": {},
   "source": [
    "Identify strong sky emission lines:"
   ]
  },
  {
   "cell_type": "code",
   "execution_count": null,
   "id": "d1af0e21-7b48-47f3-a620-45d97febe51c",
   "metadata": {},
   "outputs": [],
   "source": [
    "line_fraction = 1-continuum/rss.counts\n",
    "line_threshold = np.nanmedian(line_fraction)\n",
    "#line_threshold = .5\n",
    "\n",
    "line_mask = np.all(line_fraction > line_threshold, axis=0)\n",
    "print(f'{np.count_nonzero(line_mask)} out of {rss.wavelength.size} wavelengths identified as strong sky lines (line fraction > {line_threshold:.3f})')"
   ]
  },
  {
   "cell_type": "code",
   "execution_count": null,
   "id": "4b654259-7ff2-497d-9df1-eab197ca5a83",
   "metadata": {},
   "outputs": [],
   "source": [
    "line_mask[0] = False\n",
    "line_mask[-1] = False\n",
    "line_left = np.where(~line_mask[:-1] & line_mask[1:])[0]\n",
    "line_right = np.where(line_mask[:-1] & ~line_mask[1:])[0]\n",
    "line_right += 1"
   ]
  },
  {
   "cell_type": "markdown",
   "id": "6bb4088e-1505-467d-bf27-2195cc7e21a8",
   "metadata": {},
   "source": [
    "Use the sky spectrum as an illustrative example:"
   ]
  },
  {
   "cell_type": "code",
   "execution_count": null,
   "id": "b00ec8c3-563f-4de1-84e7-b6b103d0db50",
   "metadata": {},
   "outputs": [],
   "source": [
    "sky_continuum = find_continuum(rss.wavelength, mode_sky, int(continuum_peak_separation*mode_sky_FWHM/spectral_resolution))"
   ]
  },
  {
   "cell_type": "code",
   "execution_count": null,
   "id": "e408b5af-2227-4092-bef1-3ba72f896f58",
   "metadata": {},
   "outputs": [],
   "source": [
    "fig, axes = new_figure('sky_continuum')\n",
    "\n",
    "ax = axes[0, 0]\n",
    "ax.set_yscale('log')\n",
    "ax.set_ylim(30, 3e4)\n",
    "\n",
    "ax.plot(rss.wavelength, mode_sky, 'k-', alpha=.2, label='mode-based sky')\n",
    "ax.plot(rss.wavelength, sky_continuum, 'k--', alpha=.2, label='continuum')\n",
    "ax.plot(rss.wavelength, mode_sky - sky_continuum, 'k:', alpha=.2, label='line emission')\n",
    "ax.legend()\n",
    "\n",
    "for left, right in zip(line_left, line_right):\n",
    "    ax.axvspan(rss.wavelength[left], rss.wavelength[right], color='b', alpha=.1)\n",
    "\n",
    "plt.show()"
   ]
  },
  {
   "cell_type": "markdown",
   "id": "d3dcba29-98fb-4876-89a0-1f50b11bf465",
   "metadata": {},
   "source": [
    "## Trace lines through fibres"
   ]
  },
  {
   "cell_type": "markdown",
   "id": "20cd426a-72d5-4cf0-bff8-7b206ad7a671",
   "metadata": {},
   "source": [
    "Use the continuum-subtracted sky lines as a reference spectrum:"
   ]
  },
  {
   "cell_type": "code",
   "execution_count": null,
   "id": "467af882-7d71-43bf-9544-d00e9b511341",
   "metadata": {},
   "outputs": [],
   "source": [
    "reference_spectrum = mode_sky - sky_continuum"
   ]
  },
  {
   "cell_type": "code",
   "execution_count": null,
   "id": "5df330b1-f694-44af-af67-af95e2106715",
   "metadata": {},
   "outputs": [],
   "source": [
    "line_reference_wavelength = []\n",
    "line_fit_weight = []  # used only for the fit\n",
    "line_reference_intensity = []\n",
    "for left, right in zip(line_left, line_right):\n",
    "    weight = (reference_spectrum[left:right])**2\n",
    "    line_reference_wavelength.append(np.nansum(weight * rss.wavelength[left:right]) / np.nansum(weight))\n",
    "    line_fit_weight.append(np.nansum(reference_spectrum[left:right]))\n",
    "    line_reference_intensity.append(np.nanmean(reference_spectrum[left:right]))\n",
    "line_reference_wavelength = np.array(line_reference_wavelength)\n",
    "line_fit_weight = np.array(line_fit_weight)\n",
    "line_reference_intensity = np.array(line_reference_intensity)"
   ]
  },
  {
   "cell_type": "markdown",
   "id": "aac69e14-b80f-466c-bf7a-fbb26b0f49e7",
   "metadata": {},
   "source": [
    "Trace line wavelengths for every fibre to compare with the reference spectrum:"
   ]
  },
  {
   "cell_type": "code",
   "execution_count": null,
   "id": "3093861b-58e8-4812-863c-472548c5f1b7",
   "metadata": {},
   "outputs": [],
   "source": [
    "line_fibre_wavelength = []\n",
    "line_fibre_intensity = []\n",
    "for left, right in zip(line_left, line_right):\n",
    "    weight = (rss.counts[:, left:right] - continuum[:, left:right])**2\n",
    "    line_fibre_wavelength.append(np.nansum(weight * rss.wavelength[np.newaxis, left:right], axis=1) / np.nansum(weight, axis=1))\n",
    "    line_fibre_intensity.append(np.nanmean(rss.counts[:, left:right] - continuum[:, left:right], axis=1))\n",
    "line_fibre_wavelength = np.array(line_fibre_wavelength)\n",
    "line_fibre_intensity = np.array(line_fibre_intensity)"
   ]
  },
  {
   "cell_type": "markdown",
   "id": "44ba3843-60f1-422d-946d-eb3f57297484",
   "metadata": {},
   "source": [
    "Fit wavelength dependence:"
   ]
  },
  {
   "cell_type": "code",
   "execution_count": null,
   "id": "9e6c93ea-f7e2-445b-9166-803768df4eeb",
   "metadata": {},
   "outputs": [],
   "source": [
    "fit_npoints = 18"
   ]
  },
  {
   "cell_type": "code",
   "execution_count": null,
   "id": "a85de777-b14a-4d24-b483-725347b35a38",
   "metadata": {},
   "outputs": [],
   "source": [
    "fit_bins = np.linspace(line_reference_wavelength[0], line_reference_wavelength[-1], fit_npoints+1)\n",
    "line_bin = np.searchsorted(fit_bins, line_reference_wavelength).clip(1, fit_npoints)\n",
    "line_bin -=1\n",
    "fit_bin_weight = np.zeros(fit_npoints)\n",
    "np.add.at(fit_bin_weight, line_bin, line_fit_weight)\n",
    "line_fit_weight /= fit_bin_weight[line_bin]"
   ]
  },
  {
   "cell_type": "code",
   "execution_count": null,
   "id": "f348aead-7889-40a5-9bf2-5439639aef10",
   "metadata": {},
   "outputs": [],
   "source": [
    "#fit = np.zeros(rss.n_fibres)\n",
    "fit_points_x = np.zeros(fit_npoints)\n",
    "np.add.at(fit_points_x, line_bin, line_reference_wavelength*line_fit_weight)\n",
    "fit_points_y = np.zeros((rss.n_fibres, fit_npoints))\n",
    "for fibre in range(rss.n_fibres):\n",
    "    np.add.at(fit_points_y[fibre], line_bin, (line_fibre_wavelength[:, fibre]-line_reference_wavelength)*line_fit_weight)\n"
   ]
  },
  {
   "cell_type": "markdown",
   "id": "dc5c1b75-d92e-4b14-bc29-86cb46f25eca",
   "metadata": {},
   "source": [
    "Plot results:"
   ]
  },
  {
   "cell_type": "code",
   "execution_count": null,
   "id": "4353dfa9-41b6-4fd5-9092-3ee3d7ea0758",
   "metadata": {},
   "outputs": [],
   "source": [
    "random_fibre = np.random.randint(0, rss.n_fibres)\n",
    "random_fibre = 195\n",
    "\n",
    "fig, axes = new_figure('line_traces', figsize=(12, 8), nrows=3)\n",
    "\n",
    "for ax in axes.flat:\n",
    "    for line in line_left:\n",
    "        ax.axvline(rss.wavelength[line], c='k', ls=':', alpha=.2)\n",
    "    for line in line_right:\n",
    "        ax.axvline(rss.wavelength[line], c='k', ls=':', alpha=.2)\n",
    "    for line in line_reference_wavelength:\n",
    "        ax.axvline(line, c='k', ls='--', alpha=.2)\n",
    "\n",
    "ax = axes[0, 0]\n",
    "ax.set_yscale('log')\n",
    "ax.set_ylim(1, 3e4)\n",
    "\n",
    "ax.plot(rss.wavelength, reference_spectrum, 'b-', alpha=.5, label='reference spectrum')\n",
    "ax.plot(rss.wavelength, rss.counts[random_fibre] - continuum[random_fibre], 'r-', alpha=.5, label=f'fibre {random_fibre}')\n",
    "\n",
    "ax.legend()\n",
    "\n",
    "\n",
    "ax = axes[1, 0]\n",
    "ax.set_ylabel(r'$\\Delta \\lambda$ [$\\AA$]')\n",
    "#ax.set_yscale('log')\n",
    "ax.set_ylim(-.5, .5)\n",
    "\n",
    "#for fibre in range(rss.n_fibres):\n",
    "#    ax.plot(line_reference_wavelength, line_fibre_wavelength[:, fibre] - line_reference_wavelength, 'c-', alpha=.02)\n",
    "\n",
    "ax.plot(line_reference_wavelength, line_fibre_wavelength[:, random_fibre] - line_reference_wavelength, 'r+-', alpha=.5, label=f'fibre {random_fibre}')\n",
    "ax.legend(loc='lower right')\n",
    "'''\n",
    "ax.plot(rss.wavelength, wavelength_correction_zero_point[random_fibre] + wavelength_correction_slope[random_fibre]*rss.wavelength, 'c--',\n",
    "       label=f'Linear fit to fibre {random_fibre}')\n",
    "'''\n",
    "ax.plot(fit_points_x, fit_points_y[random_fibre], 'ks--', alpha=1)\n",
    "\n",
    "ax.plot(fit_points_x, np.nanmedian(fit_points_y, axis=0), 'b-', alpha=.5)\n",
    "ax.fill_between(fit_points_x, np.percentile(fit_points_y, 16, axis=0), np.percentile(fit_points_y, 84, axis=0), color='b', alpha=.2)\n",
    "\n",
    "ax = axes[2, 0]\n",
    "ax.set_ylim(random_fibre-10, random_fibre+10)\n",
    "\n",
    "im, cb = colour_map(ax, 'line emission', rss.counts-continuum, xlabel='', x=rss.wavelength)\n",
    "dummy_cb = fig.colorbar(None, ax=axes[0, 0], orientation='vertical', shrink=.9)\n",
    "dummy_cb.ax.clear()\n",
    "dummy_cb.ax.axis('off')\n",
    "dummy_cb = fig.colorbar(im, ax=axes[1, 0], orientation='vertical', shrink=.9)\n",
    "dummy_cb.ax.clear()\n",
    "dummy_cb.ax.axis('off')\n",
    "\n",
    "ax.axhline(random_fibre, c='k', ls=':', alpha=.4)\n",
    "for line in line_fibre_wavelength:\n",
    "    ax.plot(line, np.arange(rss.n_fibres), 'k-', alpha=.4)\n",
    "\n",
    "\n",
    "ax = axes[-1, 0]\n",
    "ax.set_xlabel(r'wavelength [$\\AA$]')\n",
    "plt.show()"
   ]
  },
  {
   "cell_type": "markdown",
   "id": "8cdfada2-2872-458d-a1e1-6b6d1bda29b9",
   "metadata": {},
   "source": [
    "## Wavelength correction"
   ]
  },
  {
   "cell_type": "code",
   "execution_count": null,
   "id": "bd91c6d6-9f66-4b8e-87eb-b2224667a85a",
   "metadata": {},
   "outputs": [],
   "source": [
    "line_offset = line_fibre_wavelength - line_reference_wavelength[:, np.newaxis]\n",
    "line_offset -= np.nanmedian(line_offset, axis=1)[:, np.newaxis]\n",
    "p16_line_offset, median_line_offset, p84_line_offset = np.nanpercentile(line_offset, [16, 50, 84], axis=0)\n",
    "model_line_offset = line_offset - median_line_offset[np.newaxis, :]\n",
    "model_line_offset = median_line_offset[np.newaxis, :] + ndimage.gaussian_filter(model_line_offset, 2)"
   ]
  },
  {
   "cell_type": "code",
   "execution_count": null,
   "id": "55f7e220-9422-4606-b74b-bebbdb65e1d6",
   "metadata": {},
   "outputs": [],
   "source": [
    "p16_corrected_offset, median_corrected_offset, p84_corrected_offset = np.nanpercentile(line_offset - model_line_offset, [16, 50, 84], axis=0)"
   ]
  },
  {
   "cell_type": "code",
   "execution_count": null,
   "id": "55b6a6b3-00c0-4314-944a-387e982e9cb6",
   "metadata": {},
   "outputs": [],
   "source": [
    "fig, axes = new_figure('wavelength_correction', figsize=(10, 8), nrows=2)\n",
    "\n",
    "ax = axes[0, 0]\n",
    "ax.set_ylabel('$\\Delta\\lambda$ [$\\AA$]')\n",
    "ax.plot(median_line_offset, 'k-', alpha=.5, label='original')\n",
    "ax.fill_between(np.arange(rss.n_fibres), p16_line_offset, p84_line_offset, color='k', alpha=.1)\n",
    "#ax.plot(median_corrected_offset, 'b-', alpha=.5, label='corrected')\n",
    "#ax.fill_between(np.arange(rss.n_fibres), p16_corrected_offset, p84_corrected_offset, color='b', alpha=.1)\n",
    "#ax.legend()\n",
    "for line in rss.sky_fibres[0]:\n",
    "    ax.axvline(line, c='b', ls='-', alpha=.2)\n",
    "cb = fig.colorbar(None, ax=ax)\n",
    "cb.remove()\n",
    "\n",
    "\n",
    "ax = axes[1, 0]\n",
    "im, cb = colour_map(ax, '$\\Delta\\lambda$ [$\\AA$]', line_offset,\n",
    "                    xlabel='fibre ID (position in detector?)', ylabel='line ID (increasing $\\lambda$)', cmap='turbo', norm=colors.Normalize(vmin=-.2, vmax=.2))\n",
    "ax.scatter(rss.sky_fibres, -np.ones_like(rss.sky_fibres), s=100, marker='+', c='k', label='sky fibres')\n",
    "ax.scatter(rss.sky_fibres, line_reference_intensity.size*np.ones_like(rss.sky_fibres), s=100, marker='+', c='k')\n",
    "ax.legend()\n",
    "ax.set_ylim(-2, line_reference_intensity.size+2)\n",
    "\n",
    "'''\n",
    "ax = axes[2, 0]\n",
    "im, cb = colour_map(ax, '$\\Delta\\lambda$ - median $\\Delta\\lambda$ [$\\AA$]', model_line_offset,\n",
    "                    xlabel='fibre ID (position in detector?)', ylabel='line ID (increasing $\\lambda$)', cmap='turbo', norm=colors.Normalize(vmin=-.2, vmax=.2))\n",
    "ax.scatter(rss.sky_fibres, -np.ones_like(rss.sky_fibres), s=100, marker='+', c='k', label='sky fibres')\n",
    "ax.scatter(rss.sky_fibres, line_reference_intensity.size*np.ones_like(rss.sky_fibres), s=100, marker='+', c='k')\n",
    "ax.legend()\n",
    "ax.set_ylim(-2, line_reference_intensity.size+2)\n",
    "\n",
    "\n",
    "ax = axes[3, 0]\n",
    "im, cb = colour_map(ax, '$\\Delta\\lambda$ - median $\\Delta\\lambda$ [$\\AA$]', line_offset - model_line_offset,\n",
    "                    xlabel='fibre ID (position in detector?)', ylabel='line ID (increasing $\\lambda$)', cmap='turbo', norm=colors.Normalize(vmin=-.2, vmax=.2))\n",
    "ax.scatter(rss.sky_fibres, -np.ones_like(rss.sky_fibres), s=100, marker='+', c='k', label='sky fibres')\n",
    "ax.scatter(rss.sky_fibres, line_reference_intensity.size*np.ones_like(rss.sky_fibres), s=100, marker='+', c='k')\n",
    "ax.legend()\n",
    "ax.set_ylim(-2, line_reference_intensity.size+2)\n",
    "'''\n",
    "\n",
    "\n",
    "plt.show()\n",
    "plt.savefig(f'{rss.filename}-wave_corr.pdf')"
   ]
  },
  {
   "cell_type": "code",
   "execution_count": null,
   "id": "841ff5da-5057-4bc5-87d4-a817498489b9",
   "metadata": {},
   "outputs": [],
   "source": [
    "fig, axes = new_figure('relative_offset')\n",
    "ax = axes[0, 0]\n",
    "ax.set_ylabel('number of fibres')\n",
    "ax.hist(median_line_offset, np.linspace(-.25, .25, 61))\n",
    "ax.set_xlabel(r'median offset $\\Delta \\lambda\\ [\\AA]$')\n",
    "#ax.hist((median_line_offset/6700)*3e5, np.linspace(-15, 15, 61))\n",
    "#ax.set_xlabel(r'median velocity correction at 6700 $\\AA$ [km/s]')\n",
    "plt.show()\n",
    "plt.savefig(f'{rss.filename}-relative_ofset.pdf')\n",
    "np.savetxt(f'{rss.filename}-relative_offset.txt', median_fibre_flat, fmt='%.4f', header='relative_throughput')"
   ]
  },
  {
   "cell_type": "markdown",
   "id": "bdfbadd8-6bd2-4454-8fc0-6fe827aeb086",
   "metadata": {},
   "source": [
    "## Fibre flat"
   ]
  },
  {
   "cell_type": "code",
   "execution_count": null,
   "id": "a3fdb773-f68e-4852-8037-63a6ed82a308",
   "metadata": {},
   "outputs": [],
   "source": [
    "line_reference_wavelength.shape, line_fibre_intensity.shape"
   ]
  },
  {
   "cell_type": "code",
   "execution_count": null,
   "id": "20301714-bbdf-4799-af95-21c1489fc001",
   "metadata": {},
   "outputs": [],
   "source": [
    "fibre_flat = line_fibre_intensity / line_reference_intensity[:, np.newaxis]\n",
    "fibre_flat /= np.nanmedian(fibre_flat, axis=1)[:, np.newaxis]\n",
    "p16_fibre_flat, median_fibre_flat, p84_fibre_flat = np.nanpercentile(fibre_flat, [16, 50, 84], axis=0)"
   ]
  },
  {
   "cell_type": "code",
   "execution_count": null,
   "id": "a1e587de-af15-490e-bd69-ea151d2d3ae7",
   "metadata": {},
   "outputs": [],
   "source": [
    "fig, axes = new_figure('fibre_flat', figsize=(10, 8), nrows=2)\n",
    "\n",
    "ax = axes[0, 0]\n",
    "ax.set_ylabel('fibre flat')\n",
    "ax.plot(median_fibre_flat, 'k-', alpha=.5)\n",
    "ax.fill_between(np.arange(rss.n_fibres), p16_fibre_flat, p84_fibre_flat, color='k', alpha=.1)\n",
    "for line in rss.sky_fibres[0]:\n",
    "    ax.axvline(line, c='b', ls='-', alpha=.2)\n",
    "cb = fig.colorbar(None, ax=ax)\n",
    "cb.remove()\n",
    "\n",
    "\n",
    "ax = axes[1, 0]\n",
    "im, cb = colour_map(ax, 'fibre flat', fibre_flat,\n",
    "                    xlabel='fibre ID (position in detector?)', ylabel='line ID (increasing $\\lambda$)', cmap='turbo', norm=colors.Normalize(vmin=.8, vmax=1.2))\n",
    "ax.scatter(rss.sky_fibres, -np.ones_like(rss.sky_fibres), s=100, marker='+', c='k', label='sky fibres')\n",
    "ax.scatter(rss.sky_fibres, line_reference_intensity.size*np.ones_like(rss.sky_fibres), s=100, marker='+', c='k')\n",
    "ax.legend()\n",
    "ax.set_ylim(-2, line_reference_intensity.size+2)\n",
    "\n",
    "\n",
    "plt.show()\n",
    "plt.savefig(f'{rss.filename}-fibre_flat.pdf')"
   ]
  },
  {
   "cell_type": "code",
   "execution_count": null,
   "id": "436dee63-c79b-404a-8772-181315fa8906",
   "metadata": {},
   "outputs": [],
   "source": [
    "fig, axes = new_figure('relative_throughput')\n",
    "ax = axes[0, 0]\n",
    "ax.set_ylabel('number of fibres')\n",
    "ax.hist(median_fibre_flat, np.linspace(.8, 1.2, 81))\n",
    "ax.set_xlabel(r'relative fibre throughput (median fibre flat)')\n",
    "plt.show()\n",
    "plt.savefig(f'{rss.filename}-relative_throughput.pdf')\n",
    "np.savetxt(f'{rss.filename}-relative_throughput.txt', median_fibre_flat, fmt='%.4f', header='relative_throughput')"
   ]
  }
 ],
 "metadata": {
  "kernelspec": {
   "display_name": "Python 3 (ipykernel)",
   "language": "python",
   "name": "python3"
  },
  "language_info": {
   "codemirror_mode": {
    "name": "ipython",
    "version": 3
   },
   "file_extension": ".py",
   "mimetype": "text/x-python",
   "name": "python",
   "nbconvert_exporter": "python",
   "pygments_lexer": "ipython3",
   "version": "3.8.10"
  },
  "toc-autonumbering": false,
  "toc-showcode": false,
  "toc-showmarkdowntxt": false,
  "toc-showtags": false
 },
 "nbformat": 4,
 "nbformat_minor": 5
}
